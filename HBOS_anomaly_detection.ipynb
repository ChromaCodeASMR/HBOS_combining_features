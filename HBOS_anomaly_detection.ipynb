{
 "cells": [
  {
   "cell_type": "code",
   "execution_count": 38,
   "metadata": {},
   "outputs": [],
   "source": [
    "from pyod.utils.data import generate_data, generate_data_categorical\n",
    "from pyod.models.hbos import HBOS\n",
    "from pyod.utils.utility import invert_order\n",
    "import numpy as np\n",
    "from sklearn.preprocessing import OrdinalEncoder"
   ]
  },
  {
   "attachments": {},
   "cell_type": "markdown",
   "metadata": {},
   "source": [
    "**Generate some outlier data**"
   ]
  },
  {
   "cell_type": "code",
   "execution_count": 5,
   "metadata": {},
   "outputs": [],
   "source": [
    "X_num, y_num = generate_data(n_train=1000, n_test=0, n_features=3, train_only=True)"
   ]
  },
  {
   "cell_type": "code",
   "execution_count": 23,
   "metadata": {},
   "outputs": [],
   "source": [
    "X_cat1, y_cat1, _, _ = generate_data_categorical(n_train=1000, n_test=5, n_features=2, n_category_in=5, n_category_out=5)\n",
    "X_cat2, y_cat2, _, _ = generate_data_categorical(n_train=1000, n_test=5, n_features=2, n_category_in=3, n_category_out=3)"
   ]
  },
  {
   "cell_type": "code",
   "execution_count": 24,
   "metadata": {},
   "outputs": [
    {
     "name": "stdout",
     "output_type": "stream",
     "text": [
      "10\n",
      "10\n"
     ]
    }
   ],
   "source": [
    "print(len(set(X_cat1[:, 0])))\n",
    "print(len(set(X_cat1[:, 1])))\n"
   ]
  },
  {
   "cell_type": "code",
   "execution_count": 34,
   "metadata": {},
   "outputs": [],
   "source": [
    "X_cat = np.hstack([X_cat1, X_cat2])\n",
    "ord_encoder = OrdinalEncoder()\n",
    "ord_encoder.fit(X_cat)\n",
    "X_cat_encoded = ord_encoder.transform(X_cat)\n",
    "X_cat_encoded\n",
    "\n",
    "X_full = np.hstack([X_num, X_cat_encoded])"
   ]
  },
  {
   "attachments": {},
   "cell_type": "markdown",
   "metadata": {},
   "source": [
    "**Initialize model**"
   ]
  },
  {
   "cell_type": "code",
   "execution_count": 37,
   "metadata": {},
   "outputs": [
    {
     "data": {
      "text/plain": [
       "[HBOS(alpha=0.1, contamination=0.1, n_bins='auto', tol=0.5),\n",
       " HBOS(alpha=0.1, contamination=0.1, n_bins='auto', tol=0.5),\n",
       " HBOS(alpha=0.1, contamination=0.1, n_bins='auto', tol=0.5),\n",
       " HBOS(alpha=0.1, contamination=0.1, n_bins=10, tol=0.5),\n",
       " HBOS(alpha=0.1, contamination=0.1, n_bins=10, tol=0.5),\n",
       " HBOS(alpha=0.1, contamination=0.1, n_bins=6, tol=0.5),\n",
       " HBOS(alpha=0.1, contamination=0.1, n_bins=6, tol=0.5)]"
      ]
     },
     "execution_count": 37,
     "metadata": {},
     "output_type": "execute_result"
    }
   ],
   "source": [
    "number_of_columns = X_full.shape[1]\n",
    "classifiers = []\n",
    "categorical_indices = [3,4,5,6]\n",
    "for col_index in range(number_of_columns):\n",
    "    if col_index in categorical_indices:\n",
    "        nr_different_categories = len(set(X_full[:, col_index]))\n",
    "        clf = HBOS(n_bins=nr_different_categories)\n",
    "        clf.fit(X_full[:, col_index].reshape(-1, 1))\n",
    "        classifiers.append(clf)\n",
    "    else:\n",
    "        clf = HBOS(n_bins=\"auto\")\n",
    "        clf.fit(X_full[:, col_index].reshape(-1, 1))\n",
    "        classifiers.append(clf)\n",
    "classifiers"
   ]
  },
  {
   "attachments": {},
   "cell_type": "markdown",
   "metadata": {},
   "source": [
    "**get combined outlier scores**"
   ]
  },
  {
   "cell_type": "code",
   "execution_count": 40,
   "metadata": {},
   "outputs": [],
   "source": [
    "n_samples, n_features = X_full.shape[0], X_full.shape[1]\n",
    "outlier_scores = np.zeros(shape=(n_samples, n_features))\n",
    "for col_index in range(n_features):\n",
    "    outlier_scores[:, col_index] = classifiers[col_index].decision_scores_\n",
    "final_outlier_scores = invert_order(np.sum(outlier_scores, axis=1))"
   ]
  },
  {
   "cell_type": "code",
   "execution_count": 43,
   "metadata": {},
   "outputs": [
    {
     "data": {
      "text/plain": [
       "(1000,)"
      ]
     },
     "execution_count": 43,
     "metadata": {},
     "output_type": "execute_result"
    }
   ],
   "source": [
    "final_outlier_scores.shape"
   ]
  },
  {
   "cell_type": "code",
   "execution_count": 47,
   "metadata": {},
   "outputs": [],
   "source": [
    "contamination = 0.1\n",
    "threshold = sorted(final_outlier_scores, reverse=True)[int(contamination * n_samples)]\n",
    "prediction = (final_outlier_scores > threshold).astype('int').ravel()"
   ]
  }
 ],
 "metadata": {
  "kernelspec": {
   "display_name": "venv",
   "language": "python",
   "name": "python3"
  },
  "language_info": {
   "codemirror_mode": {
    "name": "ipython",
    "version": 3
   },
   "file_extension": ".py",
   "mimetype": "text/x-python",
   "name": "python",
   "nbconvert_exporter": "python",
   "pygments_lexer": "ipython3",
   "version": "3.10.2"
  },
  "orig_nbformat": 4,
  "vscode": {
   "interpreter": {
    "hash": "de6470ebd8d9cfe2d767db22e6cbeca65d15cc86506df83a92f949ec5d05cce0"
   }
  }
 },
 "nbformat": 4,
 "nbformat_minor": 2
}
